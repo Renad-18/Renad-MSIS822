{
  "nbformat": 4,
  "nbformat_minor": 0,
  "metadata": {
    "colab": {
      "provenance": []
    },
    "kernelspec": {
      "name": "python3",
      "display_name": "Python 3"
    },
    "language_info": {
      "name": "python"
    }
  },
  "cells": [
    {
      "cell_type": "code",
      "execution_count": 4,
      "metadata": {
        "colab": {
          "base_uri": "https://localhost:8080/"
        },
        "id": "R6mFK5e3amTt",
        "outputId": "54643276-e452-478e-8889-30f1ae354d80"
      },
      "outputs": [
        {
          "output_type": "stream",
          "name": "stdout",
          "text": [
            "Available splits: dict_keys(['by_polishing', 'from_title', 'from_title_and_content'])\n",
            "                                   original_abstract  \\\n",
            "0  كثيرا ما ارتبطت المصادر التاريخية في الأندلس خ...   \n",
            "1  يعد العامل الثقافي احد ابرز الاسباب التي يعزى ...   \n",
            "2  شكلت تلك الجهود والمساعي الرائدة التي قام بها ...   \n",
            "3  يقوم المقال على اشكالية الضرائب الغير شرعية في...   \n",
            "4  تتفق المصادر التاريخية المتوفرة حول موضوع تطور...   \n",
            "\n",
            "                            allam_generated_abstract  \\\n",
            "0  يتناول هذا البحث موضوع التعليم بين النساء الأن...   \n",
            "1  يتناول هذا البحث دراسة انهيار دولة الموحدين من...   \n",
            "2  هدفت هذه الدراسة إلى تسليط الضوء على جهود قادة...   \n",
            "3  يتناول هذا البحث إشكالية الضرائب غير الشرعية ف...   \n",
            "4  تتناول هذه الدراسة حركة الانتصار للحريات الديم...   \n",
            "\n",
            "                             jais_generated_abstract  \\\n",
            "0  تدرس هذه الدراسة دور المرأة في التعليم في الأن...   \n",
            "1  كان العامل الثقافي من بين الأسباب الرئيسية الت...   \n",
            "2  تدرس هذه الدراسة جهود قادة الثورة الجزائرية خل...   \n",
            "3  تدرس المقالة مشكلة الضرائب غير الشرعية في مراح...   \n",
            "4  حركة انتصار الحريات الديمقراطية (MTLD)، وهي حر...   \n",
            "\n",
            "                            llama_generated_abstract  \\\n",
            "0  يُقدم هذا البحث دراسة شاملة حول حالة التعليم ع...   \n",
            "1  يعد العامل الثقافي أحد أبرز الأسباب التي يعزى ...   \n",
            "2  شكلت الجهود التي بذلها قادة الثورة الجزائرية خ...   \n",
            "3  يقوم البحث على دراسة الضرائب غير الشرعية في دو...   \n",
            "4  تُظهر المصادر التاريخية المتاحة حول تطور الحرك...   \n",
            "\n",
            "                           openai_generated_abstract  \n",
            "0  صور نظام التعليم عند المرأة الأندلسية تستند إل...  \n",
            "1  انهيار دولة الموحدين يعود بشكل كبير للعوامل ال...  \n",
            "2  جهود قادة الثورة الجزائرية خلال المرحلة الأولى...  \n",
            "3  المقال يناقش قضية الضرائب غير الشرعية في دولتي...  \n",
            "4  حركة انتصار الحريات الديمقراطية (MTLD) في الجز...  \n"
          ]
        }
      ],
      "source": [
        "# 1. استيراد المكتبات\n",
        "from datasets import load_dataset\n",
        "import pandas as pd\n",
        "\n",
        "# 2. تحميل البيانات من Hugging Face\n",
        "dataset = load_dataset(\"KFUPM-JRCAI/arabic-generated-abstracts\")\n",
        "\n",
        "# 3. استعراض التقسيمات (splits)\n",
        "print(\"Available splits:\", dataset.keys())\n",
        "\n",
        "\n",
        "# 4. نحول القسم by_polishing إلى DataFrame\n",
        "df = pd.DataFrame(dataset['by_polishing'])\n",
        "\n",
        "# 5. عرض أول 5 أسطر للتأكد\n",
        "print(df.head())"
      ]
    },
    {
      "cell_type": "code",
      "source": [
        "# 1. عدد الصفوف والأعمدة\n",
        "print(\"عدد الصفوف والأعمدة:\", df.shape)\n",
        "\n",
        "# 2. أسماء الأعمدة\n",
        "print(\"\\nأسماء الأعمدة:\", df.columns.tolist())\n",
        "\n",
        "# 3. عدد القيم المفقودة في كل عمود\n",
        "print(\"\\nعدد القيم المفقودة:\")\n",
        "print(df.isnull().sum())\n",
        "\n",
        "# 4. عدد الصفوف المكررة\n",
        "print(\"\\nعدد الصفوف المكررة:\", df.duplicated().sum())\n"
      ],
      "metadata": {
        "colab": {
          "base_uri": "https://localhost:8080/"
        },
        "id": "MsRg2Jwb_qKc",
        "outputId": "c22c6ce5-a601-4e7f-e79d-ed1ae6413b28"
      },
      "execution_count": 5,
      "outputs": [
        {
          "output_type": "stream",
          "name": "stdout",
          "text": [
            "عدد الصفوف والأعمدة: (2851, 5)\n",
            "\n",
            "أسماء الأعمدة: ['original_abstract', 'allam_generated_abstract', 'jais_generated_abstract', 'llama_generated_abstract', 'openai_generated_abstract']\n",
            "\n",
            "عدد القيم المفقودة:\n",
            "original_abstract            0\n",
            "allam_generated_abstract     0\n",
            "jais_generated_abstract      0\n",
            "llama_generated_abstract     0\n",
            "openai_generated_abstract    0\n",
            "dtype: int64\n",
            "\n",
            "عدد الصفوف المكررة: 0\n"
          ]
        }
      ]
    },
    {
      "cell_type": "code",
      "source": [
        "\n",
        "import pandas as pd\n",
        "from datasets import load_dataset\n",
        "\n",
        "# تحميل البيانات من HuggingFace\n",
        "dataset = load_dataset(\"KFUPM-JRCAI/arabic-generated-abstracts\")\n",
        "\n",
        "# ناخذ subset by_polishing كمثال\n",
        "df = pd.DataFrame(dataset['by_polishing'])\n",
        "\n",
        "# نصوص بشرية\n",
        "df_human = pd.DataFrame({\n",
        "    'text': df['original_abstract'],\n",
        "    'label': 'human'\n",
        "})\n",
        "\n",
        "# نصوص ذكاء (من نموذج JAIS كمثال)\n",
        "df_ai = pd.DataFrame({\n",
        "    'text': df['jais_generated_abstract'],\n",
        "    'label': 'ai'\n",
        "})\n",
        "\n",
        "# عرض أول 10 صفوف بشرية\n",
        "print(\" Human examples:\")\n",
        "print(df_human.head(10), \"\\n\")\n",
        "\n",
        "# عرض أول 10 صفوف ذكاء\n",
        "print(\" AI examples:\")\n",
        "print(df_ai.head(10))\n"
      ],
      "metadata": {
        "colab": {
          "base_uri": "https://localhost:8080/"
        },
        "id": "XA88RiiYGrmh",
        "outputId": "54e6c4a9-7c5a-4f4f-a979-6620d0843d18"
      },
      "execution_count": 16,
      "outputs": [
        {
          "output_type": "stream",
          "name": "stdout",
          "text": [
            " Human examples:\n",
            "                                                text  label\n",
            "0  كثيرا ما ارتبطت المصادر التاريخية في الأندلس خ...  human\n",
            "1  يعد العامل الثقافي احد ابرز الاسباب التي يعزى ...  human\n",
            "2  شكلت تلك الجهود والمساعي الرائدة التي قام بها ...  human\n",
            "3  يقوم المقال على اشكالية الضرائب الغير شرعية في...  human\n",
            "4  تتفق المصادر التاريخية المتوفرة حول موضوع تطور...  human\n",
            "5  تعددت صور الحياة الثقافية و الفكرية و الأدبية ...  human\n",
            "6  تروم هذه المحاولة العلمية المتواضعة رصد ملامح ...  human\n",
            "7  يعالج هذا المقال الإطار التنسيقي بين المنظمات ...  human\n",
            "8  يتناول هذا المقال بالدرس، اقتصاد الأندلس المبن...  human\n",
            "9  نعالج في هذا الموضوع المعنون ب«الثورة التحريري...  human \n",
            "\n",
            " AI examples:\n",
            "                                                text label\n",
            "0  تدرس هذه الدراسة دور المرأة في التعليم في الأن...    ai\n",
            "1  كان العامل الثقافي من بين الأسباب الرئيسية الت...    ai\n",
            "2  تدرس هذه الدراسة جهود قادة الثورة الجزائرية خل...    ai\n",
            "3  تدرس المقالة مشكلة الضرائب غير الشرعية في مراح...    ai\n",
            "4  حركة انتصار الحريات الديمقراطية (MTLD)، وهي حر...    ai\n",
            "5  شهدت الفترة الصنهاجية في المغرب ازدهاراً ثقافي...    ai\n",
            "6  تدرس هذه الدراسة العلمية التحولات النضالية في ...    ai\n",
            "7  تدرس هذه المقالة تشكيل الكونفدرالية الشمال أفر...    ai\n",
            "8  تدرس هذه المقالة اقتصاد الأندلس الذي يعتمد على...    ai\n",
            "9  يتناول هذا البحث المعنون ب\"الثورة التحريرية با...    ai\n"
          ]
        }
      ]
    },
    {
      "cell_type": "code",
      "source": [
        "# دمج البشري + الذكاء\n",
        "df_combined = pd.concat([df_human, df_ai], ignore_index=True)\n",
        "\n",
        "# توزيع البيانات\n",
        "print(\"🔹 Distribution:\")\n",
        "print(df_combined['label'].value_counts())"
      ],
      "metadata": {
        "colab": {
          "base_uri": "https://localhost:8080/"
        },
        "id": "mFaC7GxENsx-",
        "outputId": "d269b696-5249-4085-9d05-3d813a91e9e1"
      },
      "execution_count": 12,
      "outputs": [
        {
          "output_type": "stream",
          "name": "stdout",
          "text": [
            "🔹 Distribution:\n",
            "label\n",
            "human    2851\n",
            "ai       2851\n",
            "Name: count, dtype: int64\n"
          ]
        }
      ]
    }
  ]
}